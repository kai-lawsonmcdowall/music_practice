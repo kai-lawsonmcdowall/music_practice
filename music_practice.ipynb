{
 "cells": [
  {
   "cell_type": "markdown",
   "metadata": {},
   "source": [
    "Some initial pseudoscripting for a program which will help me (and maybe other musicians) to have their practice for a day layed out before them\n",
    "\n",
    "This includes: \n",
    "\n",
    "- Scales and Arppegio's  \n",
    "- Major pieces (they will have have to enter these manually)\n",
    "- Improv (this is really just for fun)\n",
    "- Additional exercises, in this case, I will use Feuillard's cello daily exercise book \n",
    "\n",
    "I want to be able to decide: \n",
    "\n",
    "How long I want to practice for in a day, and how this will be distributed each of these. For instance. Alternatively, I want to be able to provide a list of scales, peices, exercises that need completed in a given session (AND maybe the amount of time it should take to complete them)\n",
    "\n",
    "- Improv will appear fairly rarely compared to the others in a day if at all\n",
    "- Major Pieces will appear everyday, these should make up the majority of any given day\n",
    "- Scales should appear everyday, and will appear at roughly the same amountaas the exercises. \n",
    "\n",
    "Therefore, the function should have the follow parameters\n",
    "\n",
    "- **total_time**: the total expected practice time for  a given day \n",
    "\n",
    "- **practice type (time or pieces or both)**: if the user wants it to say \"practice scales for 5 min\" or  \"practice these scales\" or \"practice these scales for 5 min\". I'd recommend both \n",
    "\n",
    "- **bias** # provide a bias towards one of the aspects of practice on a given day \n",
    "\n",
    "\n",
    "I will also need to generate lists of pieces and scales so that we can actually pick from them. I should also try and break these down into smaller more granular functions than one larger one "
   ]
  },
  {
   "cell_type": "code",
   "execution_count": 1,
   "metadata": {},
   "outputs": [],
   "source": [
    "def music_practice(): \n",
    "    return()\n"
   ]
  },
  {
   "cell_type": "code",
   "execution_count": 7,
   "metadata": {},
   "outputs": [],
   "source": [
    "class color:\n",
    "   PURPLE = '\\033[95m'\n",
    "   CYAN = '\\033[96m'\n",
    "   DARKCYAN = '\\033[36m'\n",
    "   BLUE = '\\033[94m'\n",
    "   GREEN = '\\033[92m'\n",
    "   YELLOW = '\\033[93m'\n",
    "   RED = '\\033[91m'\n",
    "   BOLD = '\\033[1m'\n",
    "   UNDERLINE = '\\033[4m'\n",
    "   END = '\\033[0m'"
   ]
  },
  {
   "cell_type": "code",
   "execution_count": 8,
   "metadata": {},
   "outputs": [],
   "source": [
    "def timed_practice(total_time): \n",
    "    from numpy.random import choice\n",
    "    import random\n",
    "    import decimal\n",
    "    if total_time <= 5: \n",
    "        print(\"just practice your major piece(s)!\")\n",
    "    elif total_time > 5: \n",
    "        scales = round(decimal.Decimal(random.randrange(10, 20))/100 * total_time) #assumes scales add up to 10-20% of your given practice \n",
    "        exercises = round(decimal.Decimal(random.randrange(10, 15 ))/100 * total_time)#should also add up to approximately 5-10% of your time. \n",
    "        \n",
    "        improv_probability = choice([\"improv\",\"no_improv\"], 1, p=[0.15,0.85]) #randomly decides if an improv session will happen, 85% that it won't, 50 that it will.\n",
    "        if improv_probability == \"improv\":\n",
    "            improv = round(decimal.Decimal(random.randrange(10, 15))/100 * total_time)\n",
    "        else: \n",
    "            improv  = 0 \n",
    "        \n",
    "        pieces = total_time - scales - exercises - improv\n",
    "\n",
    "        print(color.BOLD + color.UNDERLINE + f\"your practice of {total_time} should be broken into:\" + color.END)\n",
    "        print(f\"practice scales for: {scales} minutes \")\n",
    "        print(f\"practice exercises for: {exercises} minutes \")\n",
    "        print(f\"practice major pieces for: {pieces} minutes \")\n",
    "        if improv!=0: \n",
    "            print((f\"practice improv for: {improv} minutes \"))\n",
    "        return(scales)\n"
   ]
  },
  {
   "cell_type": "code",
   "execution_count": 9,
   "metadata": {},
   "outputs": [
    {
     "name": "stdout",
     "output_type": "stream",
     "text": [
      "\u001b[1m\u001b[4myour practice of 15 should be broken into:\u001b[0m\n",
      "practice scales for: 3 minutes \n",
      "practice exercises for: 2 minutes \n",
      "practice major pieces for: 8 minutes \n",
      "practice improv for: 2 minutes \n"
     ]
    },
    {
     "data": {
      "text/plain": [
       "3"
      ]
     },
     "execution_count": 9,
     "metadata": {},
     "output_type": "execute_result"
    }
   ],
   "source": [
    "timed_practice(15)"
   ]
  },
  {
   "cell_type": "markdown",
   "metadata": {},
   "source": [
    "**The scales function:** \n",
    "- part of the larger function which tells you what to practice rather than how much time to take\n",
    "- we have a large list (150+), I would argue that minor and major are the most important. Dorian, Lydian, etc are of equal importance. I would do a random weighting of 55% major, 30% minor, and 15% other \n",
    "- I would also like to print out the corresponding scale from \"CELLO SCALES - Tiziano Mattei\" \n",
    "- we have two options, return a number of scales you wish to practice, or a number of scales for a given time frame (i.e., if I have two minutes to play scales, how many do I play?). In the latter case, lets assume 1 scale per 2 minutes. "
   ]
  },
  {
   "cell_type": "code",
   "execution_count": 5,
   "metadata": {},
   "outputs": [],
   "source": [
    "def scales_total(number_scales):\n",
    "    \n",
    "    scales = open(\"/home/kai/music_practice/scales_list.txt\", \"r\")\n",
    "    scales_data = scales.read()\n",
    "    scales_list = scales_data.split(\"\\n\")"
   ]
  },
  {
   "cell_type": "code",
   "execution_count": 11,
   "metadata": {},
   "outputs": [
    {
     "data": {
      "text/plain": [
       "['#major scales',\n",
       " 'A flat major ',\n",
       " 'A major',\n",
       " 'B major',\n",
       " 'B flat major',\n",
       " 'C flat major',\n",
       " 'C major',\n",
       " 'C sharp major',\n",
       " 'D major',\n",
       " 'E major',\n",
       " 'E flat major',\n",
       " 'F major',\n",
       " 'F sharp major ',\n",
       " 'G major',\n",
       " 'G flat major ',\n",
       " 'A flat major arpeggio',\n",
       " 'A major arpeggio',\n",
       " 'B major arpeggio',\n",
       " 'B flat major arpeggio',\n",
       " 'C flat major arpeggio',\n",
       " 'C major arpeggio',\n",
       " 'C sharp major arpeggio',\n",
       " 'D major arpeggio',\n",
       " 'E major arpeggio',\n",
       " 'E flat major arpeggio',\n",
       " 'F major arpeggio',\n",
       " 'F sharp major arpeggio',\n",
       " 'G major arpeggio',\n",
       " 'G flat major arpeggio ',\n",
       " '#Dorian Scales ',\n",
       " 'C dorian',\n",
       " 'C# dorian',\n",
       " 'D♭ dorian',\n",
       " 'D dorian',\n",
       " 'E♭ dorian',\n",
       " 'D# dorian',\n",
       " 'E dorian',\n",
       " 'F dorian',\n",
       " 'F# dorian',\n",
       " 'G dorian',\n",
       " 'G# dorian',\n",
       " 'A♭ dorian',\n",
       " 'A dorian',\n",
       " 'B♭ dorian',\n",
       " 'B dorian',\n",
       " '#Phrygian scales',\n",
       " 'C phrygian',\n",
       " 'C# phrygian',\n",
       " 'D phrygian',\n",
       " 'D# phrygian',\n",
       " 'E♭ phrygian',\n",
       " 'E phrygian',\n",
       " 'F phrygian',\n",
       " 'F# phrygian',\n",
       " 'G phrygian',\n",
       " 'G# phrygian',\n",
       " 'A phrygian',\n",
       " 'B♭ phrygian',\n",
       " 'A# phrygian',\n",
       " 'B phrygian',\n",
       " '#Lydian Scales ',\n",
       " 'C lydian',\n",
       " 'D♭ lydian',\n",
       " 'D lydian',\n",
       " 'E♭ lydian',\n",
       " 'E lydian',\n",
       " 'F♭ lydian',\n",
       " 'F lydian',\n",
       " 'G♭ lydian',\n",
       " 'F# lydian',\n",
       " 'G lydian',\n",
       " 'A♭ lydian',\n",
       " 'A lydian',\n",
       " 'B♭ lydian',\n",
       " 'B lydian',\n",
       " 'C♭ lydian',\n",
       " '#Mixolydian scales ',\n",
       " 'C mixolydian',\n",
       " 'D♭ mixolydian',\n",
       " 'C# mixolydian',\n",
       " 'D mixolydian',\n",
       " 'E♭ mixolydian',\n",
       " 'E mixolydian',\n",
       " 'F mixolydian',\n",
       " 'F# mixolydian',\n",
       " 'G♭ mixolydian',\n",
       " 'G mixolydian',\n",
       " 'A♭ mixolydian',\n",
       " 'G# mixolydian',\n",
       " 'A mixolydian',\n",
       " 'B♭ mixolydian',\n",
       " 'B mixolydian',\n",
       " '#Locrian scales ',\n",
       " 'C locrian',\n",
       " 'B# locrian',\n",
       " 'C# locrian',\n",
       " 'D locrian',\n",
       " 'D# locrian',\n",
       " 'E locrian',\n",
       " 'F locrian',\n",
       " 'E# locrian',\n",
       " 'F# locrian',\n",
       " 'G locrian',\n",
       " 'G# locrian',\n",
       " 'A locrian',\n",
       " 'A# locrian',\n",
       " 'B♭ locrian',\n",
       " 'B locrian',\n",
       " '']"
      ]
     },
     "execution_count": 11,
     "metadata": {},
     "output_type": "execute_result"
    }
   ],
   "source": [
    "scales = open(\"/home/kai/music_practice/scales_list.txt\", \"r\")\n",
    "scales_data = scales.read()\n",
    "scales_list = scales_data.split(\"\\n\")\n",
    "scales_list"
   ]
  },
  {
   "cell_type": "code",
   "execution_count": null,
   "metadata": {},
   "outputs": [],
   "source": []
  }
 ],
 "metadata": {
  "kernelspec": {
   "display_name": "Python 3.8.8 ('base': conda)",
   "language": "python",
   "name": "python3"
  },
  "language_info": {
   "codemirror_mode": {
    "name": "ipython",
    "version": 3
   },
   "file_extension": ".py",
   "mimetype": "text/x-python",
   "name": "python",
   "nbconvert_exporter": "python",
   "pygments_lexer": "ipython3",
   "version": "3.8.8"
  },
  "orig_nbformat": 4,
  "vscode": {
   "interpreter": {
    "hash": "7e98b958d39e2318fe67f21a85bb53f2aef1546589483d93394df0541a8637a6"
   }
  }
 },
 "nbformat": 4,
 "nbformat_minor": 2
}
