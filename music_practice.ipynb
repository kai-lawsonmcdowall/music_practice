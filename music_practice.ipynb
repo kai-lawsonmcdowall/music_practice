{
 "cells": [
  {
   "cell_type": "markdown",
   "metadata": {},
   "source": [
    "Some initial pseudoscripting for a program which will help me (and maybe other musicians) to have their practice for a day layed out before them\n",
    "\n",
    "This includes: \n",
    "\n",
    "- Scales and Arppegio's  \n",
    "- Major pieces (they will have have to enter these manually)\n",
    "- Improv (this is really just for fun)\n",
    "- Additional exercises, in this case, I will use Feuillard's cello daily exercise book \n",
    "\n",
    "I want to be able to decide: \n",
    "\n",
    "How long I want to practice for in a day, and how this will be distributed each of these. For instance. Alternatively, I want to be able to provide a list of scales, peices, exercises that need completed in a given session (AND maybe the amount of time it should take to complete them)\n",
    "\n",
    "- Improv will appear fairly rarely compared to the others in a day if at all\n",
    "- Major Pieces will appear everyday, these should make up the majority of any given day\n",
    "- Scales should appear everyday, and will appear at roughly the same amountaas the exercises. \n",
    "\n",
    "Therefore, the function should have the follow parameters\n",
    "\n",
    "- **total_time**: the total expected practice time for  a given day \n",
    "\n",
    "- **practice type (time or pieces or both)**: if the user wants it to say \"practice scales for 5 min\" or  \"practice these scales\" or \"practice these scales for 5 min\". I'd recommend both \n",
    "\n",
    "- **bias** # provide a bias towards one of the aspects of practice on a given day \n",
    "\n",
    "\n",
    "I will also need to generate lists of pieces and scales so that we can actually pick from them. I should also try and break these down into smaller more granular functions than one larger one "
   ]
  },
  {
   "cell_type": "code",
   "execution_count": 1,
   "metadata": {},
   "outputs": [],
   "source": [
    "def music_practice(): \n",
    "    return()\n"
   ]
  },
  {
   "cell_type": "code",
   "execution_count": 2,
   "metadata": {},
   "outputs": [],
   "source": [
    "class color:\n",
    "   PURPLE = '\\033[95m'\n",
    "   CYAN = '\\033[96m'\n",
    "   DARKCYAN = '\\033[36m'\n",
    "   BLUE = '\\033[94m'\n",
    "   GREEN = '\\033[92m'\n",
    "   YELLOW = '\\033[93m'\n",
    "   RED = '\\033[91m'\n",
    "   BOLD = '\\033[1m'\n",
    "   UNDERLINE = '\\033[4m'\n",
    "   END = '\\033[0m'"
   ]
  },
  {
   "cell_type": "code",
   "execution_count": 3,
   "metadata": {},
   "outputs": [],
   "source": [
    "# import the time module\n",
    "import time\n",
    "  \n",
    "# define the countdown func.\n",
    "def countdown(t):\n",
    "    \n",
    "    while t:\n",
    "        mins, secs = divmod(t, 60)\n",
    "        timer = '{:02d}:{:02d}'.format(mins, secs)\n",
    "        print(timer, end=\"\\r\")\n",
    "        time.sleep(1)\n",
    "        t -= 1"
   ]
  },
  {
   "cell_type": "code",
   "execution_count": 4,
   "metadata": {},
   "outputs": [],
   "source": [
    "def timed_practice(total_time): \n",
    "   \n",
    "    import os\n",
    "    from numpy.random import choice\n",
    "    import random\n",
    "    import decimal\n",
    "\n",
    "    if total_time <= 5: \n",
    "        print(\"just practice your major piece(s)!\")\n",
    "    elif total_time > 5: \n",
    "        scales = round(decimal.Decimal(random.randrange(10, 20))/100 * total_time) #assumes scales add up to 10-20% of your given practice \n",
    "        exercises = round(decimal.Decimal(random.randrange(10, 15 ))/100 * total_time)#should also add up to approximately 5-10% of your time. \n",
    "        \n",
    "        improv_probability = choice([\"improv\",\"no_improv\"], 1, p=[0.15,0.85]) #randomly decides if an improv session will happen, 85% that it won't, 50 that it will.\n",
    "        if improv_probability == \"improv\":\n",
    "            improv = round(decimal.Decimal(random.randrange(10, 15))/100 * total_time)\n",
    "        else: \n",
    "            improv  = 0 \n",
    "        \n",
    "        pieces = total_time - scales - exercises - improv\n",
    "\n",
    "        print(color.BOLD + color.UNDERLINE + f\"your practice of {total_time} should be broken into:\" + color.END)\n",
    "        print(color.GREEN + f\"practice scales for: {scales} minutes \")\n",
    "        print(color.BLUE + f\"practice exercises for: {exercises} minutes \")\n",
    "        print(color.RED + f\"practice major pieces for: {pieces} minutes\" + color.END)\n",
    "        if improv!=0: \n",
    "            print((f\"practice improv for: {improv} minutes \"))\n",
    "\n",
    "        print(\"\\n\\n\")\n",
    "\n",
    "        print(color.GREEN + f\"time left to practice scales:\" + color.END)\n",
    "        countdown(int(scales))\n",
    "        print(\"Done with scales, change to exercises!\")\n",
    "        print(\"\\n\\n\")\n",
    "\n",
    "        print(color.BLUE + f\"time left to practice exercises:\" + color.END)\n",
    "        countdown(int(exercises)*60)\n",
    "        print(\"Done with scales, change to exercises!\")\n",
    "        print(\"\\n\\n\")\n",
    "\n",
    "        print(color.RED + f\"time left to practice scales:\" + color.END)\n",
    "        countdown(int(pieces)*60)\n",
    "        print(\"all done :)\")\n",
    "        print(\"\\n\\n\")\n"
   ]
  },
  {
   "cell_type": "code",
   "execution_count": 6,
   "metadata": {},
   "outputs": [
    {
     "name": "stdout",
     "output_type": "stream",
     "text": [
      "\u001b[1m\u001b[4myour practice of 15 should be broken into:\u001b[0m\n",
      "\u001b[92mpractice scales for: 2 minutes \n",
      "\u001b[94mpractice exercises for: 2 minutes \n",
      "\u001b[91mpractice major pieces for: 11 minutes\u001b[0m\n",
      "\n",
      "\n",
      "\n",
      "\u001b[92mtime left to practice scales:\u001b[0m\n",
      "Done with scales, change to exercises!\n",
      "\n",
      "\n",
      "\n",
      "\u001b[94mtime left to practice exercises:\u001b[0m\n",
      "01:05\r"
     ]
    },
    {
     "ename": "KeyboardInterrupt",
     "evalue": "",
     "output_type": "error",
     "traceback": [
      "\u001b[0;31m---------------------------------------------------------------------------\u001b[0m",
      "\u001b[0;31mKeyboardInterrupt\u001b[0m                         Traceback (most recent call last)",
      "\u001b[0;32m<ipython-input-6-8c4d89c98453>\u001b[0m in \u001b[0;36m<module>\u001b[0;34m\u001b[0m\n\u001b[0;32m----> 1\u001b[0;31m \u001b[0mtimed_practice\u001b[0m\u001b[0;34m(\u001b[0m\u001b[0;36m15\u001b[0m\u001b[0;34m)\u001b[0m\u001b[0;34m\u001b[0m\u001b[0;34m\u001b[0m\u001b[0m\n\u001b[0m",
      "\u001b[0;32m<ipython-input-4-0c1c8f9cddd4>\u001b[0m in \u001b[0;36mtimed_practice\u001b[0;34m(total_time)\u001b[0m\n\u001b[1;32m     42\u001b[0m \u001b[0;34m\u001b[0m\u001b[0m\n\u001b[1;32m     43\u001b[0m         \u001b[0mprint\u001b[0m\u001b[0;34m(\u001b[0m\u001b[0mcolor\u001b[0m\u001b[0;34m.\u001b[0m\u001b[0mBLUE\u001b[0m \u001b[0;34m+\u001b[0m \u001b[0;34mf\"time left to practice exercises:\"\u001b[0m \u001b[0;34m+\u001b[0m \u001b[0mcolor\u001b[0m\u001b[0;34m.\u001b[0m\u001b[0mEND\u001b[0m\u001b[0;34m)\u001b[0m\u001b[0;34m\u001b[0m\u001b[0;34m\u001b[0m\u001b[0m\n\u001b[0;32m---> 44\u001b[0;31m         \u001b[0mcountdown\u001b[0m\u001b[0;34m(\u001b[0m\u001b[0mint\u001b[0m\u001b[0;34m(\u001b[0m\u001b[0mexercises\u001b[0m\u001b[0;34m)\u001b[0m\u001b[0;34m*\u001b[0m\u001b[0;36m60\u001b[0m\u001b[0;34m)\u001b[0m\u001b[0;34m\u001b[0m\u001b[0;34m\u001b[0m\u001b[0m\n\u001b[0m\u001b[1;32m     45\u001b[0m         \u001b[0mprint\u001b[0m\u001b[0;34m(\u001b[0m\u001b[0;34m\"Done with scales, change to exercises!\"\u001b[0m\u001b[0;34m)\u001b[0m\u001b[0;34m\u001b[0m\u001b[0;34m\u001b[0m\u001b[0m\n\u001b[1;32m     46\u001b[0m         \u001b[0mprint\u001b[0m\u001b[0;34m(\u001b[0m\u001b[0;34m\"\\n\\n\"\u001b[0m\u001b[0;34m)\u001b[0m\u001b[0;34m\u001b[0m\u001b[0;34m\u001b[0m\u001b[0m\n",
      "\u001b[0;32m<ipython-input-3-8a77a4831993>\u001b[0m in \u001b[0;36mcountdown\u001b[0;34m(t)\u001b[0m\n\u001b[1;32m      9\u001b[0m         \u001b[0mtimer\u001b[0m \u001b[0;34m=\u001b[0m \u001b[0;34m'{:02d}:{:02d}'\u001b[0m\u001b[0;34m.\u001b[0m\u001b[0mformat\u001b[0m\u001b[0;34m(\u001b[0m\u001b[0mmins\u001b[0m\u001b[0;34m,\u001b[0m \u001b[0msecs\u001b[0m\u001b[0;34m)\u001b[0m\u001b[0;34m\u001b[0m\u001b[0;34m\u001b[0m\u001b[0m\n\u001b[1;32m     10\u001b[0m         \u001b[0mprint\u001b[0m\u001b[0;34m(\u001b[0m\u001b[0mtimer\u001b[0m\u001b[0;34m,\u001b[0m \u001b[0mend\u001b[0m\u001b[0;34m=\u001b[0m\u001b[0;34m\"\\r\"\u001b[0m\u001b[0;34m)\u001b[0m\u001b[0;34m\u001b[0m\u001b[0;34m\u001b[0m\u001b[0m\n\u001b[0;32m---> 11\u001b[0;31m         \u001b[0mtime\u001b[0m\u001b[0;34m.\u001b[0m\u001b[0msleep\u001b[0m\u001b[0;34m(\u001b[0m\u001b[0;36m1\u001b[0m\u001b[0;34m)\u001b[0m\u001b[0;34m\u001b[0m\u001b[0;34m\u001b[0m\u001b[0m\n\u001b[0m\u001b[1;32m     12\u001b[0m         \u001b[0mt\u001b[0m \u001b[0;34m-=\u001b[0m \u001b[0;36m1\u001b[0m\u001b[0;34m\u001b[0m\u001b[0;34m\u001b[0m\u001b[0m\n",
      "\u001b[0;31mKeyboardInterrupt\u001b[0m: "
     ]
    }
   ],
   "source": [
    "timed_practice(15)"
   ]
  },
  {
   "cell_type": "markdown",
   "metadata": {},
   "source": [
    "**The scales function:** \n",
    "- part of the larger function which tells you what to practice rather than how much time to take\n",
    "- we have a large list (150+), I would argue that minor and major are the most important. Dorian, Lydian, etc are of equal importance. I would do a random weighting of 55% major, 30% minor, and 15% other \n",
    "- I would also like to print out the corresponding scale from \"CELLO SCALES - Tiziano Mattei\" \n",
    "- we have two options, return a number of scales you wish to practice, or a number of scales for a given time frame (i.e., if I have two minutes to play scales, how many do I play?). In the latter case, lets assume 1 scale per 2 minutes. "
   ]
  },
  {
   "cell_type": "code",
   "execution_count": null,
   "metadata": {},
   "outputs": [],
   "source": [
    "def scales_total(number_scales):\n",
    "    \n",
    "    scales = open(\"/home/kai/music_practice/scales_list.txt\", \"r\")\n",
    "    scales_data = scales.read()\n",
    "    scales_list = scales_data.split(\"\\n\")"
   ]
  },
  {
   "cell_type": "code",
   "execution_count": null,
   "metadata": {},
   "outputs": [],
   "source": [
    "scales = open(\"/home/kai/music_practice/scales_list.txt\", \"r\")\n",
    "scales_data = scales.read()\n",
    "scales_list = scales_data.split(\"\\n\")\n",
    "print(scales_list)"
   ]
  },
  {
   "cell_type": "code",
   "execution_count": null,
   "metadata": {},
   "outputs": [],
   "source": []
  },
  {
   "cell_type": "code",
   "execution_count": null,
   "metadata": {},
   "outputs": [],
   "source": []
  }
 ],
 "metadata": {
  "kernelspec": {
   "display_name": "Python 3.8.8 ('base': conda)",
   "language": "python",
   "name": "python3"
  },
  "language_info": {
   "codemirror_mode": {
    "name": "ipython",
    "version": 3
   },
   "file_extension": ".py",
   "mimetype": "text/x-python",
   "name": "python",
   "nbconvert_exporter": "python",
   "pygments_lexer": "ipython3",
   "version": "3.8.8"
  },
  "orig_nbformat": 4,
  "vscode": {
   "interpreter": {
    "hash": "7e98b958d39e2318fe67f21a85bb53f2aef1546589483d93394df0541a8637a6"
   }
  }
 },
 "nbformat": 4,
 "nbformat_minor": 2
}
